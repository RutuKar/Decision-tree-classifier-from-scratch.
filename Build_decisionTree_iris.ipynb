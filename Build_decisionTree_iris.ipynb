{
 "cells": [
  {
   "cell_type": "code",
   "execution_count": 39,
   "id": "e69db9ea",
   "metadata": {},
   "outputs": [],
   "source": [
    "from sklearn import datasets\n",
    "\n",
    "df_iris= datasets.load_iris()"
   ]
  },
  {
   "cell_type": "code",
   "execution_count": 40,
   "id": "c1ee183d",
   "metadata": {},
   "outputs": [
    {
     "data": {
      "text/plain": [
       "'.. _iris_dataset:\\n\\nIris plants dataset\\n--------------------\\n\\n**Data Set Characteristics:**\\n\\n    :Number of Instances: 150 (50 in each of three classes)\\n    :Number of Attributes: 4 numeric, predictive attributes and the class\\n    :Attribute Information:\\n        - sepal length in cm\\n        - sepal width in cm\\n        - petal length in cm\\n        - petal width in cm\\n        - class:\\n                - Iris-Setosa\\n                - Iris-Versicolour\\n                - Iris-Virginica\\n                \\n    :Summary Statistics:\\n\\n    ============== ==== ==== ======= ===== ====================\\n                    Min  Max   Mean    SD   Class Correlation\\n    ============== ==== ==== ======= ===== ====================\\n    sepal length:   4.3  7.9   5.84   0.83    0.7826\\n    sepal width:    2.0  4.4   3.05   0.43   -0.4194\\n    petal length:   1.0  6.9   3.76   1.76    0.9490  (high!)\\n    petal width:    0.1  2.5   1.20   0.76    0.9565  (high!)\\n    ============== ==== ==== ======= ===== ====================\\n\\n    :Missing Attribute Values: None\\n    :Class Distribution: 33.3% for each of 3 classes.\\n    :Creator: R.A. Fisher\\n    :Donor: Michael Marshall (MARSHALL%PLU@io.arc.nasa.gov)\\n    :Date: July, 1988\\n\\nThe famous Iris database, first used by Sir R.A. Fisher. The dataset is taken\\nfrom Fisher\\'s paper. Note that it\\'s the same as in R, but not as in the UCI\\nMachine Learning Repository, which has two wrong data points.\\n\\nThis is perhaps the best known database to be found in the\\npattern recognition literature.  Fisher\\'s paper is a classic in the field and\\nis referenced frequently to this day.  (See Duda & Hart, for example.)  The\\ndata set contains 3 classes of 50 instances each, where each class refers to a\\ntype of iris plant.  One class is linearly separable from the other 2; the\\nlatter are NOT linearly separable from each other.\\n\\n.. topic:: References\\n\\n   - Fisher, R.A. \"The use of multiple measurements in taxonomic problems\"\\n     Annual Eugenics, 7, Part II, 179-188 (1936); also in \"Contributions to\\n     Mathematical Statistics\" (John Wiley, NY, 1950).\\n   - Duda, R.O., & Hart, P.E. (1973) Pattern Classification and Scene Analysis.\\n     (Q327.D83) John Wiley & Sons.  ISBN 0-471-22361-1.  See page 218.\\n   - Dasarathy, B.V. (1980) \"Nosing Around the Neighborhood: A New System\\n     Structure and Classification Rule for Recognition in Partially Exposed\\n     Environments\".  IEEE Transactions on Pattern Analysis and Machine\\n     Intelligence, Vol. PAMI-2, No. 1, 67-71.\\n   - Gates, G.W. (1972) \"The Reduced Nearest Neighbor Rule\".  IEEE Transactions\\n     on Information Theory, May 1972, 431-433.\\n   - See also: 1988 MLC Proceedings, 54-64.  Cheeseman et al\"s AUTOCLASS II\\n     conceptual clustering system finds 3 classes in the data.\\n   - Many, many more ...'"
      ]
     },
     "execution_count": 40,
     "metadata": {},
     "output_type": "execute_result"
    }
   ],
   "source": [
    "df_iris.DESCR"
   ]
  },
  {
   "cell_type": "code",
   "execution_count": 41,
   "id": "ffb9eba5",
   "metadata": {},
   "outputs": [
    {
     "data": {
      "text/plain": [
       "['sepal length (cm)',\n",
       " 'sepal width (cm)',\n",
       " 'petal length (cm)',\n",
       " 'petal width (cm)']"
      ]
     },
     "execution_count": 41,
     "metadata": {},
     "output_type": "execute_result"
    }
   ],
   "source": [
    "df_iris.feature_names"
   ]
  },
  {
   "cell_type": "code",
   "execution_count": 42,
   "id": "8c87459b",
   "metadata": {},
   "outputs": [
    {
     "data": {
      "text/plain": [
       "(150, 4)"
      ]
     },
     "execution_count": 42,
     "metadata": {},
     "output_type": "execute_result"
    }
   ],
   "source": [
    "import numpy as np\n",
    "Y = df_iris.target\n",
    "X= df_iris.data\n",
    "X.shape"
   ]
  },
  {
   "cell_type": "code",
   "execution_count": 43,
   "id": "3268d200",
   "metadata": {},
   "outputs": [],
   "source": [
    "from sklearn import model_selection\n",
    "X_train , X_test, Y_train, Y_test = model_selection.train_test_split(X,Y)"
   ]
  },
  {
   "cell_type": "code",
   "execution_count": 44,
   "id": "173a596e",
   "metadata": {},
   "outputs": [],
   "source": [
    "import math as mt"
   ]
  },
  {
   "cell_type": "code",
   "execution_count": 45,
   "id": "be2362dc",
   "metadata": {},
   "outputs": [],
   "source": [
    "#Node of Decision tree \n",
    "#Storing parameters like entropy, possible outputs, feature to split on\n",
    "#also contain the refrence of children Nodes to traverse the whole tree\n",
    "class graph_Node:\n",
    "    def __init__(self, Y_set, local_decision, entropy, level, split_feature=None, split_point=None, feature_names=None, gainRatio=None):\n",
    "        self.Y_set = Y_set\n",
    "        self.local_decision = local_decision\n",
    "        self.entropy = entropy\n",
    "        self.level =level\n",
    "        self.split_feature = split_feature\n",
    "        self.split_point = split_point\n",
    "        self.feature_names = feature_names\n",
    "        self.gainRatio = gainRatio\n",
    "        self.children = [None, None]\n",
    "    def display(self):\n",
    "        print('\\nLevel:', self.level)\n",
    "        for y in self.Y_set:\n",
    "            print('count of', y, ':', self.Y_set[y])\n",
    "        print('current entropy:', self.entropy)\n",
    "        if self.children[0] ==None and self.children[1]==None:\n",
    "            print('Reached leaf')\n",
    "            print('Final decision:', self.local_decision)\n",
    "            return\n",
    "        print('Feature to split on:', self.feature_names[self.split_feature])\n",
    "        print('Point to split on:', self.split_point)\n",
    "        print('Gain Ratio:', self.gainRatio)\n",
    "        self.children[0].display()\n",
    "        self.children[1].display()\n",
    "        "
   ]
  },
  {
   "cell_type": "code",
   "execution_count": 46,
   "id": "0ac41465",
   "metadata": {},
   "outputs": [],
   "source": [
    "def Entropy_ofNode(Y_train): #function to find out entropy of given Node and returning different output that can be possible on this node\n",
    "                             #along with most probable output\n",
    "    Y_set = {}\n",
    "    local_decision=Y_train[0]\n",
    "    for y in Y_train:\n",
    "        if y in Y_set:\n",
    "            Y_set[y]+=1\n",
    "        else:\n",
    "            Y_set[y]=1\n",
    "        if Y_set[y] > Y_set[local_decision]:\n",
    "            local_decision = y\n",
    "    \n",
    "    entropy = 0\n",
    "    for y in Y_set:\n",
    "        p = (Y_set[y]/ Y_train.shape[0])\n",
    "        entropy -= (p *mt.log10(p))\n",
    "        \n",
    "    return Y_set, local_decision, entropy"
   ]
  },
  {
   "cell_type": "code",
   "execution_count": 47,
   "id": "dad1d240",
   "metadata": {},
   "outputs": [],
   "source": [
    "def sort_X(Feature):\n",
    "    Feature = np.sort(Feature)\n",
    "    uniq_x=[Feature[0]]\n",
    "    \n",
    "    #remove duplicate from array\n",
    "    for i in Feature:\n",
    "        if uniq_x[-1] != i:\n",
    "            uniq_x.append(i)\n",
    "    return uniq_x\n",
    "    "
   ]
  },
  {
   "cell_type": "code",
   "execution_count": 48,
   "id": "95254834",
   "metadata": {},
   "outputs": [],
   "source": [
    "def gain_Ratio(feature, X_train, Y_train, Entropy_old):\n",
    "    \n",
    "    #All feature are continues so, spliting data on the basis of particular feature \n",
    "    #A spliting point will be choosen that will split feature such that gain ratio will be maximum\n",
    "    \n",
    "    split_point=0\n",
    "    Max_gain=0\n",
    "    X_feature_sorted = sort_X(X_train[:, feature])\n",
    "    for i in range(len(X_feature_sorted)-1):\n",
    "        local_split=(X_feature_sorted[i]+X_feature_sorted[i+1])/2\n",
    "        \n",
    "        decision = (X_train[: , feature] >= local_split)\n",
    "        #Dividing on data in two parts i.e. greater than and lesser than spliting point\n",
    "        Y_train_greater = Y_train[decision]\n",
    "        Y_train_lesser = Y_train[~ decision]\n",
    "        \n",
    "        #Calculating entropy for this split\n",
    "        Greater= Entropy_ofNode( Y_train_greater)\n",
    "        Lesser = Entropy_ofNode( Y_train_lesser)\n",
    "        \n",
    "        #Gain ratio calculations\n",
    "        Greater_weight = Y_train_greater.shape[0]/Y_train.shape[0]\n",
    "        Lesser_weight = Y_train_lesser.shape[0]/Y_train.shape[0]\n",
    "        Entropy_new = Greater_weight*Greater[2] + Lesser_weight*Lesser[2]\n",
    "        info_gain = Entropy_old - Entropy_new\n",
    "        split_no= -Greater_weight*mt.log10(Greater_weight) -Lesser_weight*mt.log10(Lesser_weight)\n",
    "        local_gain_ratio = info_gain /split_no\n",
    "        \n",
    "        if local_gain_ratio > Max_gain:\n",
    "            Max_gain = local_gain_ratio\n",
    "            split_point = local_split\n",
    "            \n",
    "    return Max_gain,split_point\n",
    "            \n",
    "        \n",
    "        \n",
    "        \n",
    "        \n",
    "        "
   ]
  },
  {
   "cell_type": "code",
   "execution_count": 49,
   "id": "29e49a4b",
   "metadata": {},
   "outputs": [],
   "source": [
    "def fit(X_train , Y_train , feature_Remaining, level):\n",
    "    \n",
    "    Y_set, local_decision, entropy = Entropy_ofNode(Y_train)\n",
    "    \n",
    "    if X_train.shape[1]==0 or len(Y_set)==1 or entropy<0.08:\n",
    "        Node = graph_Node(Y_set,local_decision, entropy, level)\n",
    "        return Node\n",
    "        \n",
    "    \n",
    "    Max_gain = 0\n",
    "    feature_max= 0\n",
    "    split_point =0\n",
    "    for feature in range(X_train.shape[1]):\n",
    "        F_gain, sp= gain_Ratio(feature, X_train, Y_train, entropy)\n",
    "        if F_gain > Max_gain:\n",
    "            Max_gain =F_gain\n",
    "            feature_max =feature\n",
    "            split_point = sp\n",
    "    \n",
    "    #feature_max: Feature to split on to get maximum gain ratio\n",
    "    \n",
    "    \n",
    "    #Spliting data in two parts: \n",
    "    #1)Data which has selected feature greater than split point\n",
    "    #2)----------||------------------- lesser than split point\n",
    "    decision = (X_train[: , feature_max] >= split_point)\n",
    "    X_train_greater = X_train[decision]\n",
    "    Y_train_greater = Y_train[decision]\n",
    "    X_train_lesser = X_train[~ decision]\n",
    "    Y_train_lesser = Y_train[~ decision]\n",
    "    \n",
    "    #recursivelly forming decision tree for two parts\n",
    "    Greater_node=fit(X_train_greater, Y_train_greater, feature_Remaining , level+1)\n",
    "    Lesser_node =fit(X_train_lesser, Y_train_lesser, feature_Remaining, level +1)\n",
    "    \n",
    "    #build graph node object of decision tree \n",
    "    Node = graph_Node(Y_set,local_decision, entropy, level, feature_max, split_point, feature_Remaining, Max_gain )\n",
    "    Node.children[0]= Greater_node\n",
    "    Node.children[1] = Lesser_node\n",
    "    \n",
    "    return Node\n",
    "    \n",
    "    \n",
    "    \n",
    "        "
   ]
  },
  {
   "cell_type": "code",
   "execution_count": 50,
   "id": "729f74a8",
   "metadata": {},
   "outputs": [],
   "source": [
    "def predict(X_test, Node ):\n",
    "    \n",
    "    if X_test.shape[0]==0:\n",
    "        return np.array([])\n",
    "    if Node.children[0]==None and Node.children[1]==None:\n",
    "        return np.array([Node.local_decision]*X_test.shape[0])\n",
    "    \n",
    "    #spliting testing data on the basis of feature given in Node of Decision Tree\n",
    "    decision = X_test[:, Node.split_feature ] >= Node.split_point\n",
    "    \n",
    "    X_test_greater = X_test[decision]\n",
    "    Y_predict_greater = predict(X_test_greater, Node.children[0])\n",
    "    \n",
    "    X_test_lesser = X_test[~ decision]\n",
    "    Y_predict_lesser = predict( X_test_lesser, Node.children[1])\n",
    "    \n",
    "    #joining the both output arrays\n",
    "    Y_predict = []\n",
    "    i,j=0,0\n",
    "    for b in decision:\n",
    "        if b:\n",
    "            Y_predict.append(Y_predict_greater[i])\n",
    "            i+=1\n",
    "        else:\n",
    "            Y_predict.append(Y_predict_lesser[j])\n",
    "            j+=1\n",
    "    Y_pred = np.array(Y_predict)\n",
    "    \n",
    "    return Y_pred\n",
    "    \n",
    "            "
   ]
  },
  {
   "cell_type": "code",
   "execution_count": 51,
   "id": "7ec55fe1",
   "metadata": {
    "scrolled": true
   },
   "outputs": [
    {
     "name": "stdout",
     "output_type": "stream",
     "text": [
      "\n",
      "Level: 0\n",
      "count of 1 : 41\n",
      "count of 2 : 31\n",
      "count of 0 : 40\n",
      "current entropy: 0.4738720379604485\n",
      "Feature to split on: petal length (cm)\n",
      "Point to split on: 2.45\n",
      "Gain Ratio: 0.9999999999999998\n",
      "\n",
      "Level: 1\n",
      "count of 1 : 41\n",
      "count of 2 : 31\n",
      "current entropy: 0.2968276265094406\n",
      "Feature to split on: petal width (cm)\n",
      "Point to split on: 1.75\n",
      "Gain Ratio: 0.7000765646018327\n",
      "\n",
      "Level: 2\n",
      "count of 2 : 28\n",
      "count of 1 : 1\n",
      "current entropy: 0.06514196763750303\n",
      "Reached leaf\n",
      "Final decision: 2\n",
      "\n",
      "Level: 2\n",
      "count of 1 : 40\n",
      "count of 2 : 3\n",
      "current entropy: 0.10989256215452879\n",
      "Feature to split on: petal length (cm)\n",
      "Point to split on: 4.95\n",
      "Gain Ratio: 0.2598057509649013\n",
      "\n",
      "Level: 3\n",
      "count of 1 : 2\n",
      "count of 2 : 2\n",
      "current entropy: 0.3010299956639812\n",
      "Feature to split on: petal width (cm)\n",
      "Point to split on: 1.55\n",
      "Gain Ratio: 1.0\n",
      "\n",
      "Level: 4\n",
      "count of 1 : 2\n",
      "current entropy: 0.0\n",
      "Reached leaf\n",
      "Final decision: 1\n",
      "\n",
      "Level: 4\n",
      "count of 2 : 2\n",
      "current entropy: 0.0\n",
      "Reached leaf\n",
      "Final decision: 2\n",
      "\n",
      "Level: 3\n",
      "count of 1 : 38\n",
      "count of 2 : 1\n",
      "current entropy: 0.05178828211781239\n",
      "Reached leaf\n",
      "Final decision: 1\n",
      "\n",
      "Level: 1\n",
      "count of 0 : 40\n",
      "current entropy: 0.0\n",
      "Reached leaf\n",
      "Final decision: 0\n"
     ]
    }
   ],
   "source": [
    "decisionTree = fit(X_train, Y_train,df_iris.feature_names, 0)\n",
    "decisionTree.display() #Depth first search printing of Decision tree graph\n",
    "Y_predict = predict(X_test, decisionTree)\n"
   ]
  },
  {
   "cell_type": "code",
   "execution_count": 62,
   "id": "f930a110",
   "metadata": {},
   "outputs": [
    {
     "name": "stdout",
     "output_type": "stream",
     "text": [
      "confusion matrix:\n",
      "[[10  0  0]\n",
      " [ 0  9  0]\n",
      " [ 0  1 18]]\n",
      "accuracy score: 0.9736842105263158\n"
     ]
    }
   ],
   "source": [
    "from sklearn.metrics import confusion_matrix,accuracy_score\n",
    "print(\"confusion matrix:\" )\n",
    "print(confusion_matrix(Y_test,Y_predict))\n",
    "print(\"accuracy score:\",accuracy_score(Y_test,Y_predict))"
   ]
  },
  {
   "cell_type": "markdown",
   "id": "2e2c64cb",
   "metadata": {},
   "source": [
    "#Visualization of decision boundries"
   ]
  },
  {
   "cell_type": "code",
   "execution_count": 53,
   "id": "6d92a5db",
   "metadata": {},
   "outputs": [],
   "source": [
    "def makegrid(x1, x2, h = 0.02):\n",
    "    x1_min, x1_max = x1.min() - 1, x1.max() + 1\n",
    "    x2_min, x2_max = x2.min() - 1, x2.max() + 1\n",
    "    a = np.arange(x1_min,x1_max,h)\n",
    "    b = np.arange(x2_min, x2_max, h)\n",
    "    xx, yy = np.meshgrid(a, b)\n",
    "    return xx, yy"
   ]
  },
  {
   "cell_type": "code",
   "execution_count": 55,
   "id": "bc6161f4",
   "metadata": {},
   "outputs": [
    {
     "data": {
      "image/png": "[encoded data removed]",
      "text/plain": [
       "<Figure size 432x288 with 1 Axes>"
      ]
     },
     "metadata": {
      "needs_background": "light"
     },
     "output_type": "display_data"
    }
   ],
   "source": [
    "import matplotlib.pyplot as plt\n",
    "from sklearn.decomposition import PCA\n",
    "pca = PCA(n_components=2) #used PCA for reducing features to 2, so that we can plot it in 2-D\n",
    "X_vis=pca.fit_transform(X)\n",
    "Desc_tree=fit(X_vis, Y,df_iris.feature_names, 0)\n",
    "xx, yy = makegrid(X_vis[:,0],X_vis[:,1])\n",
    "X_ts_vis=np.c_[np.ravel(xx), np.ravel(yy)]\n",
    "Y_pred_vis= predict(X_ts_vis,Desc_tree)\n",
    "plt.scatter(X_ts_vis[:,0],X_ts_vis[:,1],c=Y_pred_vis)\n",
    "\n",
    "cr =('red','black','white')\n",
    "for i in range(3):\n",
    "    plt.scatter(X_vis[Y==i,0],X_vis[Y==i,1],c=cr[i])\n",
    "\n",
    "plt.show()"
   ]
  }
 ],
 "metadata": {
  "kernelspec": {
   "display_name": "Python 3 (ipykernel)",
   "language": "python",
   "name": "python3"
  },
  "language_info": {
   "codemirror_mode": {
    "name": "ipython",
    "version": 3
   },
   "file_extension": ".py",
   "mimetype": "text/x-python",
   "name": "python",
   "nbconvert_exporter": "python",
   "pygments_lexer": "ipython3",
   "version": "3.9.7"
  }
 },
 "nbformat": 4,
 "nbformat_minor": 5
}
